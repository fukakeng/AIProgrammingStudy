{
 "cells": [
  {
   "cell_type": "code",
   "execution_count": 1,
   "metadata": {},
   "outputs": [],
   "source": [
    "%matplotlib inline \n",
    "import scipy.special as ss\n",
    "import numpy as np\n",
    "import matplotlib.pyplot as plt"
   ]
  },
  {
   "cell_type": "code",
   "execution_count": 2,
   "metadata": {},
   "outputs": [
    {
     "data": {
      "text/plain": [
       "1287.0"
      ]
     },
     "execution_count": 2,
     "metadata": {},
     "output_type": "execute_result"
    }
   ],
   "source": [
    "# 山から同時に5枚引いて全てハートの場合の数\n",
    "ss.comb(13, 5)"
   ]
  },
  {
   "cell_type": "code",
   "execution_count": 3,
   "metadata": {},
   "outputs": [
    {
     "data": {
      "text/plain": [
       "0.6961824729891957"
      ]
     },
     "execution_count": 3,
     "metadata": {},
     "output_type": "execute_result"
    }
   ],
   "source": [
    "# 山から同時に4枚引いて少なくとも1枚はスペードの確率\n",
    "1 - ss.comb(39, 4) / ss.comb(52, 4)"
   ]
  },
  {
   "cell_type": "code",
   "execution_count": 4,
   "metadata": {},
   "outputs": [
    {
     "data": {
      "text/plain": [
       "9.808845506990312e-07"
      ]
     },
     "execution_count": 4,
     "metadata": {},
     "output_type": "execute_result"
    }
   ],
   "source": [
    "# 同時に５枚引いて戻し、再度同時に５枚引く\n",
    "# 2回連続全てハートまたは全てダイヤの確率\n",
    "\n",
    "# P(5枚ハート) + P(5枚ダイヤ) - P(5枚ハート かつ 5枚ダイヤ)\n",
    "p = 2 * (ss.comb(13, 5) / ss.comb(52, 5) - 0)\n",
    "p ** 2"
   ]
  },
  {
   "cell_type": "code",
   "execution_count": 5,
   "metadata": {},
   "outputs": [
    {
     "name": "stdout",
     "output_type": "stream",
     "text": [
      "[0.16666667 0.13888889 0.11574074 0.09645062 0.08037551 0.0669796 ]\n"
     ]
    },
    {
     "data": {
      "text/plain": [
       "<BarContainer object of 6 artists>"
      ]
     },
     "execution_count": 5,
     "metadata": {},
     "output_type": "execute_result"
    },
    {
     "data": {
      "image/png": "[encoded data removed]",
      "text/plain": [
       "<Figure size 432x288 with 1 Axes>"
      ]
     },
     "metadata": {},
     "output_type": "display_data"
    }
   ],
   "source": [
    "# 演習4-2\n",
    "# 1が出るまでサイコロ投げ続ける\n",
    "# 6回目までの確率分布\n",
    "\n",
    "x = 6\n",
    "g = np.geomspace(1/6, 5**5/6**6, x)\n",
    "print(g)\n",
    "left = np.arange(1, 7)\n",
    "plt.bar(left, g, width = 1.0)"
   ]
  },
  {
   "cell_type": "code",
   "execution_count": 6,
   "metadata": {},
   "outputs": [
    {
     "name": "stdout",
     "output_type": "stream",
     "text": [
      "31000000.0\n5567.764362830022\n"
     ]
    }
   ],
   "source": [
    "m = np.array([5000, -2000, -4000, -4000, 10000, -5000])\n",
    "# 分散\n",
    "print(np.var(m))\n",
    "# 標準偏差\n",
    "print(np.std(m))"
   ]
  },
  {
   "cell_type": "code",
   "execution_count": 7,
   "metadata": {
    "scrolled": true
   },
   "outputs": [
    {
     "name": "stdout",
     "output_type": "stream",
     "text": [
      "3.75\n20.15625\n109.375\n-16.25\n"
     ]
    }
   ],
   "source": [
    "# 演習4-5\n",
    "data = {\"suitability\": [9.0, 10.0, 8.0, 9.0],\n",
    "        \"assesment\": [9.0, 9.5, 7.0, 6.0],\n",
    "        \"overtime\": [20, 35, 5, 10],\n",
    "        \"lengthofservice\": [6, 8, 9, 9],\n",
    "        \"score\": [100, 90, 75, 60]}\n",
    "\n",
    "print(np.cov(m=data[\"suitability\"], y=data[\"score\"], bias=1)[0, 1])\n",
    "print(np.cov(m=data[\"assesment\"], y=data[\"score\"], bias=1)[0, 1])\n",
    "print(np.cov(m=data[\"overtime\"], y=data[\"score\"], bias=1)[0, 1])\n",
    "print(np.cov(m=data[\"lengthofservice\"], y=data[\"score\"], bias=1)[0, 1])\n"
   ]
  },
  {
   "cell_type": "code",
   "execution_count": 188,
   "metadata": {},
   "outputs": [
    {
     "name": "stdout",
     "output_type": "stream",
     "text": [
      "相関係数 : 0.8392795981688339\n",
      "\n",
      "共分散 : 10.555555555555557\n",
      "salesの標準偏差 : 11.785113019775793\n",
      "adexpの標準偏差 : 1.0671873729054748\n",
      "相関係数 : 0.8392795981688338\n"
     ]
    }
   ],
   "source": [
    "# 演習4-6\n",
    "data = {\"sales\": [25, 40, 20, 55, 35, 45], \"adexp\": [1, 2, 1, 4, 3, 2, 2]}\n",
    "\n",
    "# numpyの関数で出す\n",
    "print(\"相関係数 : {}\".format(np.corrcoef(data[\"sales\"], data[\"adexp\"][: -1])[0, 1]))\n",
    "print()\n",
    "\n",
    "# 共分散/標準偏差*標準偏差で出してみる\n",
    "cov = np.cov(m=data[\"sales\"], y=data[\"adexp\"][: -1], bias=1)[0, 1]\n",
    "sales_std = np.std(data[\"sales\"])\n",
    "adexp_std = np.std(data[\"adexp\"][: -1])\n",
    "\n",
    "print(\"共分散 : {}\".format(cov))\n",
    "print(\"salesの標準偏差 : {}\".format(sales_std))\n",
    "print(\"adexpの標準偏差 : {}\".format(adexp_std))\n",
    "print(\"相関係数 : {}\".format(cov / (sales_std * adexp_std)))\n"
   ]
  },
  {
   "cell_type": "code",
   "execution_count": null,
   "metadata": {},
   "outputs": [],
   "source": []
  }
 ],
 "metadata": {
  "kernelspec": {
   "display_name": "Python 3",
   "language": "python",
   "name": "python3"
  },
  "language_info": {
   "codemirror_mode": {
    "name": "ipython",
    "version": 3
   },
   "file_extension": ".py",
   "mimetype": "text/x-python",
   "name": "python",
   "nbconvert_exporter": "python",
   "pygments_lexer": "ipython3",
   "version": "3.6.5"
  }
 },
 "nbformat": 4,
 "nbformat_minor": 2
}

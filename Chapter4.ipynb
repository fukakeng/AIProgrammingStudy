{
 "cells": [
  {
   "cell_type": "code",
   "execution_count": 52,
   "metadata": {},
   "outputs": [],
   "source": [
    "%matplotlib inline \n",
    "import scipy.special as ss\n",
    "import numpy as np\n",
    "import matplotlib.pyplot as plt"
   ]
  },
  {
   "cell_type": "code",
   "execution_count": 5,
   "metadata": {},
   "outputs": [
    {
     "data": {
      "text/plain": [
       "1287.0"
      ]
     },
     "execution_count": 5,
     "metadata": {},
     "output_type": "execute_result"
    }
   ],
   "source": [
    "# 山から同時に5枚引いて全てハートの場合の数\n",
    "ss.comb(13, 5)"
   ]
  },
  {
   "cell_type": "code",
   "execution_count": 6,
   "metadata": {},
   "outputs": [
    {
     "data": {
      "text/plain": [
       "0.6961824729891957"
      ]
     },
     "execution_count": 6,
     "metadata": {},
     "output_type": "execute_result"
    }
   ],
   "source": [
    "# 山から同時に4枚引いて少なくとも1枚はスペードの確率\n",
    "1 - ss.comb(39, 4) / ss.comb(52, 4)"
   ]
  },
  {
   "cell_type": "code",
   "execution_count": 32,
   "metadata": {},
   "outputs": [
    {
     "data": {
      "text/plain": [
       "9.808845506990312e-07"
      ]
     },
     "execution_count": 32,
     "metadata": {},
     "output_type": "execute_result"
    }
   ],
   "source": [
    "# 同時に５枚引いて戻し、再度同時に５枚引く\n",
    "# 2回連続全てハートまたは全てダイヤの確率\n",
    "\n",
    "# P(5枚ハート) + P(5枚ダイヤ) - P(5枚ハート かつ 5枚ダイヤ)\n",
    "p = 2 * (ss.comb(13, 5) / ss.comb(52, 5) - 0)\n",
    "p ** 2"
   ]
  },
  {
   "cell_type": "code",
   "execution_count": 78,
   "metadata": {},
   "outputs": [
    {
     "name": "stdout",
     "output_type": "stream",
     "text": [
      "[0.16666667 0.13888889 0.11574074 0.09645062 0.08037551 0.0669796 ]\n"
     ]
    },
    {
     "data": {
      "text/plain": [
       "<BarContainer object of 6 artists>"
      ]
     },
     "execution_count": 78,
     "metadata": {},
     "output_type": "execute_result"
    },
    {
     "data": {
      "image/png": "[encoded data removed]",
      "text/plain": [
       "<Figure size 432x288 with 1 Axes>"
      ]
     },
     "metadata": {},
     "output_type": "display_data"
    }
   ],
   "source": [
    "# 演習4-2\n",
    "# 1が出るまでサイコロ投げ続ける\n",
    "# 6回目までの確率分布\n",
    "\n",
    "x = 6\n",
    "g = np.geomspace(1/6, 5**5/6**6, x)\n",
    "print(g)\n",
    "left = np.arange(1, 7)\n",
    "plt.bar(left, g, width = 1.0)"
   ]
  },
  {
   "cell_type": "code",
   "execution_count": 84,
   "metadata": {},
   "outputs": [
    {
     "name": "stdout",
     "output_type": "stream",
     "text": [
      "31000000.0\n",
      "5567.764362830022\n"
     ]
    }
   ],
   "source": [
    "m = np.array([5000, -2000, -4000, -4000, 10000, -5000])\n",
    "# 分散\n",
    "print(np.var(m))\n",
    "# 標準偏差\n",
    "print(np.std(m))"
   ]
  },
  {
   "cell_type": "code",
   "execution_count": 109,
   "metadata": {
    "scrolled": true
   },
   "outputs": [
    {
     "name": "stdout",
     "output_type": "stream",
     "text": [
      "5.0\n",
      "26.875\n",
      "145.83333333333331\n",
      "-21.666666666666664\n"
     ]
    }
   ],
   "source": [
    "# 演習4-5\n",
    "data = {\"suitability\" : [9.0, 10.0, 8.0, 9.0],\n",
    "            \"assesment\" : [9.0, 9.5, 7.0, 6.0],\n",
    "            \"overtime\": [20, 35, 5, 10],\n",
    "            \"lengthofservice\" : [6, 8, 9, 9],\n",
    "            \"score\" : [100, 90, 75, 60]}\n",
    "\n",
    "print(np.cov(m = data[\"suitability\"], y = data[\"score\"])[0,1])\n",
    "print(np.cov(data[\"assesment\"], data[\"score\"])[0, 1])\n",
    "print(np.cov(data[\"overtime\"], data[\"score\"])[0, 1])\n",
    "print(np.cov(data[\"lengthofservice\"], data[\"score\"])[0, 1])"
   ]
  },
  {
   "cell_type": "code",
   "execution_count": null,
   "metadata": {},
   "outputs": [],
   "source": []
  }
 ],
 "metadata": {
  "kernelspec": {
   "display_name": "Python 3",
   "language": "python",
   "name": "python3"
  },
  "language_info": {
   "codemirror_mode": {
    "name": "ipython",
    "version": 3
   },
   "file_extension": ".py",
   "mimetype": "text/x-python",
   "name": "python",
   "nbconvert_exporter": "python",
   "pygments_lexer": "ipython3",
   "version": "3.6.5"
  }
 },
 "nbformat": 4,
 "nbformat_minor": 2
}

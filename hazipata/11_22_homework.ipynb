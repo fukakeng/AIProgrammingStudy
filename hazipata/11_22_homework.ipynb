{
 "cells": [
  {
   "cell_type": "code",
   "execution_count": 1,
   "metadata": {},
   "outputs": [
    {
     "name": "stderr",
     "output_type": "stream",
     "text": [
      "/anaconda3/lib/python3.6/site-packages/sklearn/cross_validation.py:41: DeprecationWarning: This module was deprecated in version 0.18 in favor of the model_selection module into which all the refactored classes and functions are moved. Also note that the interface of the new CV iterators are different from that of this module. This module will be removed in 0.20.\n",
      "  \"This module will be removed in 0.20.\", DeprecationWarning)\n"
     ]
    }
   ],
   "source": [
    "import numpy as np\n",
    "import pandas as pd\n",
    "import matplotlib.pyplot as plt\n",
    "from sklearn.datasets import load_breast_cancer\n",
    "from sklearn.linear_model import LogisticRegression\n",
    "from sklearn.linear_model import LinearRegression\n",
    "from sklearn.preprocessing import PolynomialFeatures\n",
    "from sklearn.cross_validation import train_test_split\n",
    "from sklearn.model_selection import cross_val_score\n",
    "from sklearn.model_selection import KFold\n",
    "from sklearn import metrics\n",
    "from sklearn.svm import SVC"
   ]
  },
  {
   "cell_type": "markdown",
   "metadata": {},
   "source": [
    "# 課題1\n",
    "## データ分割の仕方を変えていった際の誤り率の平均と分散の変化をみる"
   ]
  },
  {
   "cell_type": "code",
   "execution_count": 2,
   "metadata": {
    "scrolled": true
   },
   "outputs": [
    {
     "data": {
      "text/plain": [
       "(569, 31)"
      ]
     },
     "execution_count": 2,
     "metadata": {},
     "output_type": "execute_result"
    }
   ],
   "source": [
    "cancer = load_breast_cancer()\n",
    "df = pd.DataFrame(cancer.data, columns=cancer.feature_names)\n",
    "df['target'] = cancer.target\n",
    "df.shape"
   ]
  },
  {
   "cell_type": "markdown",
   "metadata": {},
   "source": [
    "### ホールドアウトの割合を変えていく"
   ]
  },
  {
   "cell_type": "code",
   "execution_count": 3,
   "metadata": {
    "scrolled": false
   },
   "outputs": [
    {
     "data": {
      "text/html": [
       "<div>\n",
       "<style scoped>\n",
       "    .dataframe tbody tr th:only-of-type {\n",
       "        vertical-align: middle;\n",
       "    }\n",
       "\n",
       "    .dataframe tbody tr th {\n",
       "        vertical-align: top;\n",
       "    }\n",
       "\n",
       "    .dataframe thead th {\n",
       "        text-align: right;\n",
       "    }\n",
       "</style>\n",
       "<table border=\"1\" class=\"dataframe\">\n",
       "  <thead>\n",
       "    <tr style=\"text-align: right;\">\n",
       "      <th></th>\n",
       "      <th>rate</th>\n",
       "      <th>mean</th>\n",
       "      <th>variance</th>\n",
       "    </tr>\n",
       "  </thead>\n",
       "  <tbody>\n",
       "    <tr>\n",
       "      <th>0</th>\n",
       "      <td>0.1</td>\n",
       "      <td>0.045789</td>\n",
       "      <td>0.000578</td>\n",
       "    </tr>\n",
       "    <tr>\n",
       "      <th>1</th>\n",
       "      <td>0.2</td>\n",
       "      <td>0.054474</td>\n",
       "      <td>0.000354</td>\n",
       "    </tr>\n",
       "    <tr>\n",
       "      <th>2</th>\n",
       "      <td>0.3</td>\n",
       "      <td>0.049357</td>\n",
       "      <td>0.000236</td>\n",
       "    </tr>\n",
       "    <tr>\n",
       "      <th>3</th>\n",
       "      <td>0.4</td>\n",
       "      <td>0.051711</td>\n",
       "      <td>0.000155</td>\n",
       "    </tr>\n",
       "    <tr>\n",
       "      <th>4</th>\n",
       "      <td>0.5</td>\n",
       "      <td>0.050807</td>\n",
       "      <td>0.000144</td>\n",
       "    </tr>\n",
       "    <tr>\n",
       "      <th>5</th>\n",
       "      <td>0.6</td>\n",
       "      <td>0.054298</td>\n",
       "      <td>0.000094</td>\n",
       "    </tr>\n",
       "    <tr>\n",
       "      <th>6</th>\n",
       "      <td>0.7</td>\n",
       "      <td>0.057694</td>\n",
       "      <td>0.000123</td>\n",
       "    </tr>\n",
       "    <tr>\n",
       "      <th>7</th>\n",
       "      <td>0.8</td>\n",
       "      <td>0.066096</td>\n",
       "      <td>0.000159</td>\n",
       "    </tr>\n",
       "    <tr>\n",
       "      <th>8</th>\n",
       "      <td>0.9</td>\n",
       "      <td>0.083431</td>\n",
       "      <td>0.000287</td>\n",
       "    </tr>\n",
       "  </tbody>\n",
       "</table>\n",
       "</div>"
      ],
      "text/plain": [
       "   rate      mean  variance\n",
       "0   0.1  0.045789  0.000578\n",
       "1   0.2  0.054474  0.000354\n",
       "2   0.3  0.049357  0.000236\n",
       "3   0.4  0.051711  0.000155\n",
       "4   0.5  0.050807  0.000144\n",
       "5   0.6  0.054298  0.000094\n",
       "6   0.7  0.057694  0.000123\n",
       "7   0.8  0.066096  0.000159\n",
       "8   0.9  0.083431  0.000287"
      ]
     },
     "execution_count": 3,
     "metadata": {},
     "output_type": "execute_result"
    }
   ],
   "source": [
    "results = []\n",
    "\n",
    "for rate in range(1, 10):\n",
    "    error_rates = []\n",
    "    for i in range(100):\n",
    "        train_X, test_X, train_y, test_y = train_test_split(cancer.data, cancer.target, test_size=rate*0.1)\n",
    "        model = LogisticRegression()\n",
    "        model.fit(train_X, train_y)\n",
    "        error_rates.append(1 - model.score(test_X, test_y))\n",
    "        \n",
    "    results.append([rate*0.1, np.mean(error_rates), np.var(error_rates)])\n",
    "\n",
    "df_results = pd.DataFrame(results, columns=['rate', 'mean', 'variance'])\n",
    "df_results"
   ]
  },
  {
   "cell_type": "code",
   "execution_count": 4,
   "metadata": {},
   "outputs": [
    {
     "data": {
      "text/plain": [
       "[<matplotlib.lines.Line2D at 0x11883af60>]"
      ]
     },
     "execution_count": 4,
     "metadata": {},
     "output_type": "execute_result"
    },
    {
     "data": {
      "image/png": "[encoded data removed]",
      "text/plain": [
       "<Figure size 720x216 with 2 Axes>"
      ]
     },
     "metadata": {},
     "output_type": "display_data"
    }
   ],
   "source": [
    "plt.figure(figsize=(10, 3))\n",
    "\n",
    "plt.subplots_adjust(wspace=0.4, hspace=0.6)\n",
    "plt.subplot(1, 2, 1)\n",
    "plt.plot(df_results['rate'], df_results['mean'])\n",
    "\n",
    "plt.subplot(1, 2, 2)\n",
    "plt.plot(df_results['rate'], df_results['variance'])"
   ]
  },
  {
   "cell_type": "markdown",
   "metadata": {},
   "source": [
    "### CVの分割数を変えていく"
   ]
  },
  {
   "cell_type": "code",
   "execution_count": 5,
   "metadata": {
    "scrolled": false
   },
   "outputs": [
    {
     "data": {
      "text/html": [
       "<div>\n",
       "<style scoped>\n",
       "    .dataframe tbody tr th:only-of-type {\n",
       "        vertical-align: middle;\n",
       "    }\n",
       "\n",
       "    .dataframe tbody tr th {\n",
       "        vertical-align: top;\n",
       "    }\n",
       "\n",
       "    .dataframe thead th {\n",
       "        text-align: right;\n",
       "    }\n",
       "</style>\n",
       "<table border=\"1\" class=\"dataframe\">\n",
       "  <thead>\n",
       "    <tr style=\"text-align: right;\">\n",
       "      <th></th>\n",
       "      <th>cv</th>\n",
       "      <th>mean</th>\n",
       "      <th>variance</th>\n",
       "    </tr>\n",
       "  </thead>\n",
       "  <tbody>\n",
       "    <tr>\n",
       "      <th>0</th>\n",
       "      <td>2</td>\n",
       "      <td>0.052777</td>\n",
       "      <td>0.000022</td>\n",
       "    </tr>\n",
       "    <tr>\n",
       "      <th>1</th>\n",
       "      <td>3</td>\n",
       "      <td>0.050474</td>\n",
       "      <td>0.000012</td>\n",
       "    </tr>\n",
       "    <tr>\n",
       "      <th>2</th>\n",
       "      <td>4</td>\n",
       "      <td>0.050073</td>\n",
       "      <td>0.000012</td>\n",
       "    </tr>\n",
       "    <tr>\n",
       "      <th>3</th>\n",
       "      <td>5</td>\n",
       "      <td>0.049911</td>\n",
       "      <td>0.000010</td>\n",
       "    </tr>\n",
       "    <tr>\n",
       "      <th>4</th>\n",
       "      <td>6</td>\n",
       "      <td>0.049159</td>\n",
       "      <td>0.000008</td>\n",
       "    </tr>\n",
       "    <tr>\n",
       "      <th>5</th>\n",
       "      <td>7</td>\n",
       "      <td>0.049108</td>\n",
       "      <td>0.000008</td>\n",
       "    </tr>\n",
       "    <tr>\n",
       "      <th>6</th>\n",
       "      <td>8</td>\n",
       "      <td>0.049210</td>\n",
       "      <td>0.000007</td>\n",
       "    </tr>\n",
       "    <tr>\n",
       "      <th>7</th>\n",
       "      <td>9</td>\n",
       "      <td>0.048968</td>\n",
       "      <td>0.000007</td>\n",
       "    </tr>\n",
       "  </tbody>\n",
       "</table>\n",
       "</div>"
      ],
      "text/plain": [
       "   cv      mean  variance\n",
       "0   2  0.052777  0.000022\n",
       "1   3  0.050474  0.000012\n",
       "2   4  0.050073  0.000012\n",
       "3   5  0.049911  0.000010\n",
       "4   6  0.049159  0.000008\n",
       "5   7  0.049108  0.000008\n",
       "6   8  0.049210  0.000007\n",
       "7   9  0.048968  0.000007"
      ]
     },
     "execution_count": 5,
     "metadata": {},
     "output_type": "execute_result"
    }
   ],
   "source": [
    "results = []\n",
    "\n",
    "for cv in range(2, 10):\n",
    "    error_rates = []\n",
    "    for i in range(100):\n",
    "        model = LogisticRegression()\n",
    "        kfold = KFold(n_splits=cv, shuffle=True)\n",
    "        scores = cross_val_score(model, cancer.data, cancer.target, cv=kfold, scoring=\"accuracy\")\n",
    "        error_rates.append(np.mean(1 - scores))\n",
    "    \n",
    "    results.append([cv, np.mean(error_rates), np.var(error_rates)])\n",
    "    \n",
    "df_results = pd.DataFrame(results, columns=['cv', 'mean', 'variance'])\n",
    "df_results"
   ]
  },
  {
   "cell_type": "code",
   "execution_count": 6,
   "metadata": {},
   "outputs": [
    {
     "data": {
      "text/plain": [
       "[<matplotlib.lines.Line2D at 0x1a1cbb94e0>]"
      ]
     },
     "execution_count": 6,
     "metadata": {},
     "output_type": "execute_result"
    },
    {
     "data": {
      "image/png": "[encoded data removed]",
      "text/plain": [
       "<Figure size 720x216 with 2 Axes>"
      ]
     },
     "metadata": {},
     "output_type": "display_data"
    }
   ],
   "source": [
    "plt.figure(figsize=(10, 3))\n",
    "plt.subplots_adjust(wspace=0.4, hspace=0.6)\n",
    "\n",
    "plt.subplot(1, 2, 1)\n",
    "plt.plot(df_results['cv'], df_results['mean'])\n",
    "\n",
    "plt.subplot(1, 2, 2)\n",
    "plt.plot(df_results['cv'], df_results['variance'])"
   ]
  },
  {
   "cell_type": "markdown",
   "metadata": {},
   "source": [
    "# 課題2\n",
    "## 多項式近似で複数のデータセット間のバイアス、バリアンスを算出する"
   ]
  },
  {
   "cell_type": "code",
   "execution_count": 7,
   "metadata": {},
   "outputs": [],
   "source": [
    "def f(x):\n",
    "    e = np.random.normal(loc=0, scale=np.sqrt(0.01), size=len(x))\n",
    "    return 0.5 + 0.4 * np.sin(2 * np.pi * x) + e"
   ]
  },
  {
   "cell_type": "code",
   "execution_count": 8,
   "metadata": {},
   "outputs": [
    {
     "data": {
      "text/html": [
       "<div>\n",
       "<style scoped>\n",
       "    .dataframe tbody tr th:only-of-type {\n",
       "        vertical-align: middle;\n",
       "    }\n",
       "\n",
       "    .dataframe tbody tr th {\n",
       "        vertical-align: top;\n",
       "    }\n",
       "\n",
       "    .dataframe thead th {\n",
       "        text-align: right;\n",
       "    }\n",
       "</style>\n",
       "<table border=\"1\" class=\"dataframe\">\n",
       "  <thead>\n",
       "    <tr style=\"text-align: right;\">\n",
       "      <th></th>\n",
       "      <th>dim</th>\n",
       "      <th>bias</th>\n",
       "      <th>variance</th>\n",
       "    </tr>\n",
       "  </thead>\n",
       "  <tbody>\n",
       "    <tr>\n",
       "      <th>0</th>\n",
       "      <td>1</td>\n",
       "      <td>1.937584e-02</td>\n",
       "      <td>0.001779</td>\n",
       "    </tr>\n",
       "    <tr>\n",
       "      <th>1</th>\n",
       "      <td>3</td>\n",
       "      <td>3.162914e-04</td>\n",
       "      <td>0.004032</td>\n",
       "    </tr>\n",
       "    <tr>\n",
       "      <th>2</th>\n",
       "      <td>6</td>\n",
       "      <td>1.262126e-06</td>\n",
       "      <td>0.006860</td>\n",
       "    </tr>\n",
       "    <tr>\n",
       "      <th>3</th>\n",
       "      <td>10</td>\n",
       "      <td>7.859964e-21</td>\n",
       "      <td>0.010059</td>\n",
       "    </tr>\n",
       "  </tbody>\n",
       "</table>\n",
       "</div>"
      ],
      "text/plain": [
       "   dim          bias  variance\n",
       "0    1  1.937584e-02  0.001779\n",
       "1    3  3.162914e-04  0.004032\n",
       "2    6  1.262126e-06  0.006860\n",
       "3   10  7.859964e-21  0.010059"
      ]
     },
     "execution_count": 8,
     "metadata": {},
     "output_type": "execute_result"
    }
   ],
   "source": [
    "data_x = np.random.rand(11)\n",
    "data_y = np.array([f(data_x) for i in range(100)])\n",
    "\n",
    "results = []\n",
    "\n",
    "for d in [1, 3, 6, 10]:\n",
    "    predict = []\n",
    "    for i in range(data_y.shape[0]):\n",
    "        polynomial_features = PolynomialFeatures(degree=d)\n",
    "        poly_x = polynomial_features.fit_transform(data_x.reshape(-1, 1))\n",
    "        model = LinearRegression()\n",
    "        model.fit(poly_x, data_y[i])\n",
    "        predict.append(model.predict(poly_x))\n",
    "    \n",
    "    predict_mean = np.mean(predict, axis=0)\n",
    "    bias = (predict_mean - data_y.mean(axis=0)) ** 2\n",
    "    variance = np.var(predict, axis=0)\n",
    "    results.append([d, bias.mean(), variance.mean()])\n",
    "\n",
    "df_results = pd.DataFrame(results, columns=['dim', 'bias', 'variance'])\n",
    "df_results"
   ]
  },
  {
   "cell_type": "code",
   "execution_count": 9,
   "metadata": {
    "scrolled": true
   },
   "outputs": [
    {
     "data": {
      "text/plain": [
       "[<matplotlib.lines.Line2D at 0x1a1ccdbcf8>]"
      ]
     },
     "execution_count": 9,
     "metadata": {},
     "output_type": "execute_result"
    },
    {
     "data": {
      "image/png": "[encoded data removed]",
      "text/plain": [
       "<Figure size 720x216 with 2 Axes>"
      ]
     },
     "metadata": {},
     "output_type": "display_data"
    }
   ],
   "source": [
    "plt.figure(figsize=(10, 3))\n",
    "plt.subplots_adjust(wspace=0.4, hspace=0.6)\n",
    "\n",
    "plt.subplot(1, 2, 1)\n",
    "plt.plot(df_results['dim'], df_results['bias'])\n",
    "\n",
    "plt.subplot(1, 2, 2)\n",
    "plt.plot(df_results['dim'], df_results['variance'])"
   ]
  },
  {
   "cell_type": "markdown",
   "metadata": {},
   "source": [
    "# 課題3\n",
    "## ROC曲線を描き、AUCを算出"
   ]
  },
  {
   "cell_type": "code",
   "execution_count": 10,
   "metadata": {},
   "outputs": [],
   "source": [
    "def fit_models(models, x, y):\n",
    "    for model in models:\n",
    "        model.fit(x, y)\n",
    "    return models\n",
    "\n",
    "def calc_auc(y, predict):\n",
    "    fp_rate, tp_rate, thresholds = metrics.roc_curve(y, predict)\n",
    "    print(f'thresholds {thresholds}')\n",
    "    auc = metrics.auc(fp_rate, tp_rate)\n",
    "    return fp_rate, tp_rate, auc"
   ]
  },
  {
   "cell_type": "code",
   "execution_count": 16,
   "metadata": {},
   "outputs": [],
   "source": [
    "train_X, test_X, train_y, test_y = train_test_split(cancer.data, cancer.target, test_size=0.3)\n",
    "\n",
    "models = [LogisticRegression(), SVC(kernel='linear')]\n",
    "models = fit_models(models, train_X, train_y)"
   ]
  },
  {
   "cell_type": "markdown",
   "metadata": {},
   "source": [
    "### ロジスティック回帰とSVM"
   ]
  },
  {
   "cell_type": "code",
   "execution_count": 17,
   "metadata": {
    "scrolled": true
   },
   "outputs": [
    {
     "name": "stdout",
     "output_type": "stream",
     "text": [
      "thresholds [2 1 0]\n",
      "thresholds [2 1 0]\n"
     ]
    },
    {
     "data": {
      "image/png": "[encoded data removed]",
      "text/plain": [
       "<Figure size 432x288 with 1 Axes>"
      ]
     },
     "metadata": {},
     "output_type": "display_data"
    }
   ],
   "source": [
    "for model in models:\n",
    "    predict = model.predict(test_X)\n",
    "    fp_rate, tp_rate, auc = calc_auc(test_y, predict)\n",
    "    name = model.__class__.__name__\n",
    "    plt.plot(fp_rate, tp_rate, label=f'{name} ROC curve (area = {round(auc, 3)})')\n",
    "    plt.legend()"
   ]
  },
  {
   "cell_type": "markdown",
   "metadata": {},
   "source": [
    "### ロジスティック回帰で予測の閾値を変えてみる"
   ]
  },
  {
   "cell_type": "code",
   "execution_count": 18,
   "metadata": {},
   "outputs": [
    {
     "name": "stdout",
     "output_type": "stream",
     "text": [
      "thresholds [2 1 0]\n",
      "thresholds [2 1 0]\n",
      "thresholds [2 1 0]\n"
     ]
    },
    {
     "data": {
      "image/png": "[encoded data removed]",
      "text/plain": [
       "<Figure size 432x288 with 1 Axes>"
      ]
     },
     "metadata": {},
     "output_type": "display_data"
    }
   ],
   "source": [
    "for i in range(2, 10, 3):\n",
    "    predict = (models[0].predict_proba(test_X)[:, 1] > i * 0.1).astype(int)\n",
    "    fp_rate, tp_rate, auc = calc_auc(test_y, predict)\n",
    "    plt.plot(fp_rate, tp_rate, label=f'ROC curve (i = {round(i*0.1, 1)}, area = {round(auc, 3)})')\n",
    "    plt.legend()"
   ]
  },
  {
   "cell_type": "markdown",
   "metadata": {},
   "source": [
    "### ロジスティック回帰で確率をそのまま渡す"
   ]
  },
  {
   "cell_type": "code",
   "execution_count": 19,
   "metadata": {},
   "outputs": [
    {
     "name": "stdout",
     "output_type": "stream",
     "text": [
      "thresholds [9.99991666e-01 9.75544226e-01 9.75517273e-01 9.10168914e-01\n",
      " 8.61821848e-01 7.52333683e-01 6.84544047e-01 6.03575492e-01\n",
      " 4.25746344e-01 3.92259844e-01 8.21052781e-02 5.56228745e-02\n",
      " 6.16367776e-34]\n"
     ]
    },
    {
     "data": {
      "text/plain": [
       "<matplotlib.legend.Legend at 0x1a1cf8ca20>"
      ]
     },
     "execution_count": 19,
     "metadata": {},
     "output_type": "execute_result"
    },
    {
     "data": {
      "image/png": "[encoded data removed]",
      "text/plain": [
       "<Figure size 432x288 with 1 Axes>"
      ]
     },
     "metadata": {},
     "output_type": "display_data"
    }
   ],
   "source": [
    "predict = models[0].predict_proba(test_X)[:, 1]\n",
    "fp_rate, tp_rate, auc = calc_auc(test_y, predict)\n",
    "plt.plot(fp_rate, tp_rate, label=f'ROC curve (area = {round(auc, 3)})')\n",
    "plt.legend()"
   ]
  }
 ],
 "metadata": {
  "kernelspec": {
   "display_name": "Python 3",
   "language": "python",
   "name": "python3"
  },
  "language_info": {
   "codemirror_mode": {
    "name": "ipython",
    "version": 3
   },
   "file_extension": ".py",
   "mimetype": "text/x-python",
   "name": "python",
   "nbconvert_exporter": "python",
   "pygments_lexer": "ipython3",
   "version": "3.6.5"
  }
 },
 "nbformat": 4,
 "nbformat_minor": 2
}
